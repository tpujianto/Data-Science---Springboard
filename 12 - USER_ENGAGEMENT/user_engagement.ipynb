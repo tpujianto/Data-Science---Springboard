{
 "metadata": {
  "language_info": {
   "codemirror_mode": {
    "name": "ipython",
    "version": 3
   },
   "file_extension": ".py",
   "mimetype": "text/x-python",
   "name": "python",
   "nbconvert_exporter": "python",
   "pygments_lexer": "ipython3",
   "version": "3.7.4-final"
  },
  "orig_nbformat": 2,
  "kernelspec": {
   "name": "python3",
   "display_name": "Python 3"
  }
 },
 "nbformat": 4,
 "nbformat_minor": 2,
 "cells": [
  {
   "source": [
    "# User Engagement Data Analysis\n",
    "\n",
    "Goals:\n",
    "* define an \"adopted user\" as a user who has logged into the product on three separate days in at least one seven­day period\n",
    "* identify which factors predict future user adoption"
   ],
   "cell_type": "markdown",
   "metadata": {}
  },
  {
   "source": [
    "### About the data \n",
    "\n",
    "The data is available as two attached CSV files:\n",
    "* takehome_user_engagement.csv\n",
    "* takehome_users.csv\n",
    "\n",
    "\n",
    "The data has the following two tables:\n",
    "\n",
    "1. A user table (\"takehome_users\") with data on 12,000 users who signed up for the product in the last two years. This table includes:\n",
    "* name: the user's name\n",
    "* object_id: the user's id\n",
    "* email: email address\n",
    "* creation_source: how their account was created. This takes on one of 5 values:\n",
    "    * PERSONAL_PROJECTS: invited to join another user's personal workspace\n",
    "    * GUEST_INVITE: invited to an organization as a guest (limited permissions)\n",
    "    * ORG_INVITE: invited to an organization (as a full member)\n",
    "    * SIGNUP: signed up via the website\n",
    "    * SIGNUP_GOOGLE_AUTH: signed up using Google\n",
    "Authentication (using a Google email account for their login\n",
    "id)\n",
    "* creation_time: when they created their account\n",
    "* last_session_creation_time: unix timestamp of last login\n",
    "* opted_in_to_mailing_list: whether they have opted into receiving\n",
    "marketing emails\n",
    "* enabled_for_marketing_drip: whether they are on the regular\n",
    "marketing email drip\n",
    "* org_id: the organization (group of users) they belong to\n",
    "* invited_by_user_id: which user invited them to join (if applicable).\n",
    "\n",
    "2] A usage summary table (\"takehome_user_engagement\") that has a row for each day that a user logged into the product."
   ],
   "cell_type": "markdown",
   "metadata": {}
  },
  {
   "source": [
    "## Import Data"
   ],
   "cell_type": "markdown",
   "metadata": {}
  },
  {
   "cell_type": "code",
   "execution_count": 1,
   "metadata": {},
   "outputs": [],
   "source": [
    "import warnings\n",
    "import pandas as pd\n",
    "import numpy as np\n",
    "\n",
    "warnings.simplefilter(action=\"ignore\", category=FutureWarning)"
   ]
  },
  {
   "cell_type": "code",
   "execution_count": 3,
   "metadata": {},
   "outputs": [],
   "source": [
    "# import provided dataset as pandas DataFrame\n",
    "user_file = \"data/takehome_users.csv\"\n",
    "eng_file = \"data/takehome_user_engagement.csv\"\n",
    "\n",
    "df_user = pd.read_csv(user_file, encoding=\"ISO-8859-1\")\n",
    "df_eng = pd.read_csv(eng_file, parse_dates=[\"time_stamp\"])\n",
    "\n",
    "df_user = df_user.rename({\"object_id\":\"user_id\"}, axis=1)"
   ]
  },
  {
   "cell_type": "code",
   "execution_count": 8,
   "metadata": {},
   "outputs": [
    {
     "output_type": "stream",
     "name": "stdout",
     "text": [
      "Shape of user data =  (12000, 10)\n"
     ]
    },
    {
     "output_type": "execute_result",
     "data": {
      "text/plain": [
       "   user_id        creation_time               name  \\\n",
       "0        1  2014-04-22 03:53:30     Clausen August   \n",
       "1        2  2013-11-15 03:45:04      Poole Matthew   \n",
       "2        3  2013-03-19 23:14:52  Bottrill Mitchell   \n",
       "3        4  2013-05-21 08:09:28    Clausen Nicklas   \n",
       "4        5  2013-01-17 10:14:20          Raw Grace   \n",
       "5        6  2013-12-17 03:37:06      Cunha Eduardo   \n",
       "6        7  2012-12-16 13:24:32       Sewell Tyler   \n",
       "7        8  2013-07-31 05:34:02  Hamilton Danielle   \n",
       "8        9  2013-11-05 04:04:24         Amsel Paul   \n",
       "9       10  2013-01-16 22:08:03       Santos Carla   \n",
       "\n",
       "                           email    creation_source  \\\n",
       "0       AugustCClausen@yahoo.com       GUEST_INVITE   \n",
       "1         MatthewPoole@gustr.com         ORG_INVITE   \n",
       "2     MitchellBottrill@gustr.com         ORG_INVITE   \n",
       "3      NicklasSClausen@yahoo.com       GUEST_INVITE   \n",
       "4             GraceRaw@yahoo.com       GUEST_INVITE   \n",
       "5  EduardoPereiraCunha@yahoo.com       GUEST_INVITE   \n",
       "6     TylerSewell@jourrapide.com             SIGNUP   \n",
       "7     DanielleHamilton@yahoo.com  PERSONAL_PROJECTS   \n",
       "8          PaulAmsel@hotmail.com  PERSONAL_PROJECTS   \n",
       "9  CarlaFerreiraSantos@gustr.com         ORG_INVITE   \n",
       "\n",
       "   last_session_creation_time  opted_in_to_mailing_list  \\\n",
       "0                1.398139e+09                         1   \n",
       "1                1.396238e+09                         0   \n",
       "2                1.363735e+09                         0   \n",
       "3                1.369210e+09                         0   \n",
       "4                1.358850e+09                         0   \n",
       "5                1.387424e+09                         0   \n",
       "6                1.356010e+09                         0   \n",
       "7                         NaN                         1   \n",
       "8                         NaN                         0   \n",
       "9                1.401833e+09                         1   \n",
       "\n",
       "   enabled_for_marketing_drip  org_id  invited_by_user_id  \n",
       "0                           0      11             10803.0  \n",
       "1                           0       1               316.0  \n",
       "2                           0      94              1525.0  \n",
       "3                           0       1              5151.0  \n",
       "4                           0     193              5240.0  \n",
       "5                           0     197             11241.0  \n",
       "6                           1      37                 NaN  \n",
       "7                           1      74                 NaN  \n",
       "8                           0     302                 NaN  \n",
       "9                           1     318              4143.0  "
      ],
      "text/html": "<div>\n<style scoped>\n    .dataframe tbody tr th:only-of-type {\n        vertical-align: middle;\n    }\n\n    .dataframe tbody tr th {\n        vertical-align: top;\n    }\n\n    .dataframe thead th {\n        text-align: right;\n    }\n</style>\n<table border=\"1\" class=\"dataframe\">\n  <thead>\n    <tr style=\"text-align: right;\">\n      <th></th>\n      <th>user_id</th>\n      <th>creation_time</th>\n      <th>name</th>\n      <th>email</th>\n      <th>creation_source</th>\n      <th>last_session_creation_time</th>\n      <th>opted_in_to_mailing_list</th>\n      <th>enabled_for_marketing_drip</th>\n      <th>org_id</th>\n      <th>invited_by_user_id</th>\n    </tr>\n  </thead>\n  <tbody>\n    <tr>\n      <td>0</td>\n      <td>1</td>\n      <td>2014-04-22 03:53:30</td>\n      <td>Clausen August</td>\n      <td>AugustCClausen@yahoo.com</td>\n      <td>GUEST_INVITE</td>\n      <td>1.398139e+09</td>\n      <td>1</td>\n      <td>0</td>\n      <td>11</td>\n      <td>10803.0</td>\n    </tr>\n    <tr>\n      <td>1</td>\n      <td>2</td>\n      <td>2013-11-15 03:45:04</td>\n      <td>Poole Matthew</td>\n      <td>MatthewPoole@gustr.com</td>\n      <td>ORG_INVITE</td>\n      <td>1.396238e+09</td>\n      <td>0</td>\n      <td>0</td>\n      <td>1</td>\n      <td>316.0</td>\n    </tr>\n    <tr>\n      <td>2</td>\n      <td>3</td>\n      <td>2013-03-19 23:14:52</td>\n      <td>Bottrill Mitchell</td>\n      <td>MitchellBottrill@gustr.com</td>\n      <td>ORG_INVITE</td>\n      <td>1.363735e+09</td>\n      <td>0</td>\n      <td>0</td>\n      <td>94</td>\n      <td>1525.0</td>\n    </tr>\n    <tr>\n      <td>3</td>\n      <td>4</td>\n      <td>2013-05-21 08:09:28</td>\n      <td>Clausen Nicklas</td>\n      <td>NicklasSClausen@yahoo.com</td>\n      <td>GUEST_INVITE</td>\n      <td>1.369210e+09</td>\n      <td>0</td>\n      <td>0</td>\n      <td>1</td>\n      <td>5151.0</td>\n    </tr>\n    <tr>\n      <td>4</td>\n      <td>5</td>\n      <td>2013-01-17 10:14:20</td>\n      <td>Raw Grace</td>\n      <td>GraceRaw@yahoo.com</td>\n      <td>GUEST_INVITE</td>\n      <td>1.358850e+09</td>\n      <td>0</td>\n      <td>0</td>\n      <td>193</td>\n      <td>5240.0</td>\n    </tr>\n    <tr>\n      <td>5</td>\n      <td>6</td>\n      <td>2013-12-17 03:37:06</td>\n      <td>Cunha Eduardo</td>\n      <td>EduardoPereiraCunha@yahoo.com</td>\n      <td>GUEST_INVITE</td>\n      <td>1.387424e+09</td>\n      <td>0</td>\n      <td>0</td>\n      <td>197</td>\n      <td>11241.0</td>\n    </tr>\n    <tr>\n      <td>6</td>\n      <td>7</td>\n      <td>2012-12-16 13:24:32</td>\n      <td>Sewell Tyler</td>\n      <td>TylerSewell@jourrapide.com</td>\n      <td>SIGNUP</td>\n      <td>1.356010e+09</td>\n      <td>0</td>\n      <td>1</td>\n      <td>37</td>\n      <td>NaN</td>\n    </tr>\n    <tr>\n      <td>7</td>\n      <td>8</td>\n      <td>2013-07-31 05:34:02</td>\n      <td>Hamilton Danielle</td>\n      <td>DanielleHamilton@yahoo.com</td>\n      <td>PERSONAL_PROJECTS</td>\n      <td>NaN</td>\n      <td>1</td>\n      <td>1</td>\n      <td>74</td>\n      <td>NaN</td>\n    </tr>\n    <tr>\n      <td>8</td>\n      <td>9</td>\n      <td>2013-11-05 04:04:24</td>\n      <td>Amsel Paul</td>\n      <td>PaulAmsel@hotmail.com</td>\n      <td>PERSONAL_PROJECTS</td>\n      <td>NaN</td>\n      <td>0</td>\n      <td>0</td>\n      <td>302</td>\n      <td>NaN</td>\n    </tr>\n    <tr>\n      <td>9</td>\n      <td>10</td>\n      <td>2013-01-16 22:08:03</td>\n      <td>Santos Carla</td>\n      <td>CarlaFerreiraSantos@gustr.com</td>\n      <td>ORG_INVITE</td>\n      <td>1.401833e+09</td>\n      <td>1</td>\n      <td>1</td>\n      <td>318</td>\n      <td>4143.0</td>\n    </tr>\n  </tbody>\n</table>\n</div>"
     },
     "metadata": {},
     "execution_count": 8
    }
   ],
   "source": [
    "# preview user data\n",
    "print(\"Shape of user data = \", df_user.shape)\n",
    "df_user.head(10)"
   ]
  },
  {
   "cell_type": "code",
   "execution_count": 9,
   "metadata": {},
   "outputs": [
    {
     "output_type": "stream",
     "name": "stdout",
     "text": [
      "Shape of engagement data =  (207917, 3)\n"
     ]
    },
    {
     "output_type": "execute_result",
     "data": {
      "text/plain": [
       "           time_stamp  user_id  visited\n",
       "0 2014-04-22 03:53:30        1        1\n",
       "1 2013-11-15 03:45:04        2        1\n",
       "2 2013-11-29 03:45:04        2        1\n",
       "3 2013-12-09 03:45:04        2        1\n",
       "4 2013-12-25 03:45:04        2        1\n",
       "5 2013-12-31 03:45:04        2        1\n",
       "6 2014-01-08 03:45:04        2        1\n",
       "7 2014-02-03 03:45:04        2        1\n",
       "8 2014-02-08 03:45:04        2        1\n",
       "9 2014-02-09 03:45:04        2        1"
      ],
      "text/html": "<div>\n<style scoped>\n    .dataframe tbody tr th:only-of-type {\n        vertical-align: middle;\n    }\n\n    .dataframe tbody tr th {\n        vertical-align: top;\n    }\n\n    .dataframe thead th {\n        text-align: right;\n    }\n</style>\n<table border=\"1\" class=\"dataframe\">\n  <thead>\n    <tr style=\"text-align: right;\">\n      <th></th>\n      <th>time_stamp</th>\n      <th>user_id</th>\n      <th>visited</th>\n    </tr>\n  </thead>\n  <tbody>\n    <tr>\n      <td>0</td>\n      <td>2014-04-22 03:53:30</td>\n      <td>1</td>\n      <td>1</td>\n    </tr>\n    <tr>\n      <td>1</td>\n      <td>2013-11-15 03:45:04</td>\n      <td>2</td>\n      <td>1</td>\n    </tr>\n    <tr>\n      <td>2</td>\n      <td>2013-11-29 03:45:04</td>\n      <td>2</td>\n      <td>1</td>\n    </tr>\n    <tr>\n      <td>3</td>\n      <td>2013-12-09 03:45:04</td>\n      <td>2</td>\n      <td>1</td>\n    </tr>\n    <tr>\n      <td>4</td>\n      <td>2013-12-25 03:45:04</td>\n      <td>2</td>\n      <td>1</td>\n    </tr>\n    <tr>\n      <td>5</td>\n      <td>2013-12-31 03:45:04</td>\n      <td>2</td>\n      <td>1</td>\n    </tr>\n    <tr>\n      <td>6</td>\n      <td>2014-01-08 03:45:04</td>\n      <td>2</td>\n      <td>1</td>\n    </tr>\n    <tr>\n      <td>7</td>\n      <td>2014-02-03 03:45:04</td>\n      <td>2</td>\n      <td>1</td>\n    </tr>\n    <tr>\n      <td>8</td>\n      <td>2014-02-08 03:45:04</td>\n      <td>2</td>\n      <td>1</td>\n    </tr>\n    <tr>\n      <td>9</td>\n      <td>2014-02-09 03:45:04</td>\n      <td>2</td>\n      <td>1</td>\n    </tr>\n  </tbody>\n</table>\n</div>"
     },
     "metadata": {},
     "execution_count": 9
    }
   ],
   "source": [
    "# preview engangement data\n",
    "print(\"Shape of engagement data = \", df_eng.shape)\n",
    "df_eng.head(10)"
   ]
  },
  {
   "source": [
    "## Adopted User\n",
    "\n",
    "Defining an \"adopted user\" as a user who has logged into the product on three separate days in at least one seven­day period, **identify which factors predict future user adoption**."
   ],
   "cell_type": "markdown",
   "metadata": {}
  },
  {
   "cell_type": "code",
   "execution_count": 12,
   "metadata": {},
   "outputs": [],
   "source": [
    "unique = df_user.user_id.unique()"
   ]
  },
  {
   "cell_type": "code",
   "execution_count": 29,
   "metadata": {
    "tags": []
   },
   "outputs": [],
   "source": [
    "df_agg = df_eng.set_index(\"time_stamp\")\n",
    "\n",
    "users = df_agg[\"user_id\"].unique()\n",
    "adoption = []\n",
    "\n",
    "for i in users:\n",
    "    id_filter = df_agg[\"user_id\"] == i #filter based on user id\n",
    "    df_filter = df_agg[id_filter].resample(\"1D\").count() #resample and count daily\n",
    "    df_filter = df_filter.rolling(window=7).sum() #using window\n",
    "    df_filter = df_filter.dropna()\n",
    "    adoption.append(any(df_filter[\"visited\"].values >= 3))"
   ]
  },
  {
   "cell_type": "code",
   "execution_count": 30,
   "metadata": {},
   "outputs": [],
   "source": [
    "# applying 'adopted_user' logic onto df #\n",
    "user_adoption = list(zip(users, adoption))\n",
    "\n",
    "# create a new DataFrame for user adoption\n",
    "df_adopt = pd.DataFrame(user_adoption)\n",
    "df_adopt.columns = [\"user_id\", \"adopted_user\"]\n",
    "\n",
    "df = df_user.merge(df_adopt, on=\"user_id\", how=\"left\")"
   ]
  },
  {
   "cell_type": "code",
   "execution_count": 32,
   "metadata": {},
   "outputs": [],
   "source": [
    "# mapping 'adopted_user' #\n",
    "df.loc[:, \"adopted_user\"] = df[\"adopted_user\"].map({False:0, True:1, np.nan:0})\n",
    "df.dropna(subset=[\"adopted_user\"], inplace=True)\n",
    "df[\"adopted_user\"] = df[\"adopted_user\"].astype(int)"
   ]
  },
  {
   "cell_type": "code",
   "execution_count": 33,
   "metadata": {},
   "outputs": [],
   "source": [
    "# mapping 'invited_by_user' #\n",
    "invite = lambda row: 0 if np.isnan(row) else 1\n",
    "df[\"invited_by_user\"] = df[\"invited_by_user_id\"].apply(invite)"
   ]
  },
  {
   "cell_type": "code",
   "execution_count": 34,
   "metadata": {},
   "outputs": [],
   "source": [
    "# final df #\n",
    "df = df[[\"adopted_user\", \"invited_by_user\", \"creation_source\",\n",
    "         \"opted_in_to_mailing_list\", \"enabled_for_marketing_drip\"]]"
   ]
  },
  {
   "source": [
    "## Modeling"
   ],
   "cell_type": "markdown",
   "metadata": {}
  },
  {
   "cell_type": "code",
   "execution_count": 38,
   "metadata": {},
   "outputs": [
    {
     "output_type": "stream",
     "name": "stdout",
     "text": [
      "Best parameters: {'rf__max_depth': 5, 'rf__n_estimators': 50}\nTraining accuracy score from tuned model: 86.7%\n"
     ]
    }
   ],
   "source": [
    "from sklearn.model_selection import train_test_split\n",
    "from sklearn.model_selection import GridSearchCV\n",
    "from sklearn.pipeline import Pipeline\n",
    "from sklearn.preprocessing import OneHotEncoder\n",
    "from sklearn.ensemble import RandomForestClassifier\n",
    "from sklearn.metrics import accuracy_score\n",
    "\n",
    "# machine learning pipeline #\n",
    "X = df[df.columns[1:]]\n",
    "y = df[df.columns[0]]\n",
    "\n",
    "X_train, X_test, y_train, y_test = train_test_split(X, y, stratify=y, test_size=0.7, random_state=42)\n",
    "\n",
    "pipeline = Pipeline(steps=[(\"encoder\", OneHotEncoder()), \n",
    "                           (\"rf\", RandomForestClassifier(random_state = 42))])\n",
    "\n",
    "params = {\"rf__n_estimators\" : [50, 75, 100],\n",
    "          \"rf__max_depth\" : [5, 10, 15]}\n",
    "\n",
    "cv = GridSearchCV(pipeline, param_grid=params, cv=5)\n",
    "cv.fit(X_train, y_train)\n",
    "\n",
    "print(f\"Best parameters: {cv.best_params_}\")\n",
    "print(f\"Training accuracy score from tuned model: {cv.best_score_*100:.1f}%\")"
   ]
  },
  {
   "cell_type": "code",
   "execution_count": 39,
   "metadata": {},
   "outputs": [
    {
     "output_type": "stream",
     "name": "stdout",
     "text": [
      "Model accuracy: 86.69%\n"
     ]
    }
   ],
   "source": [
    "# test set score #\n",
    "y_pred = cv.predict(X_test)\n",
    "test_accuracy = accuracy_score(y_test, y_pred)\n",
    "print(f\"Model accuracy: {test_accuracy*100:.2f}%\")"
   ]
  },
  {
   "cell_type": "code",
   "execution_count": 40,
   "metadata": {},
   "outputs": [
    {
     "output_type": "stream",
     "name": "stdout",
     "text": [
      "Weight: 0.067 | Feature: creation_source_ORG_INVITE\nWeight: 0.063 | Feature: creation_source_GUEST_INVITE\nWeight: 0.062 | Feature: creation_source_PERSONAL_PROJECTS\nWeight: 0.054 | Feature: enabled_for_marketing_drip\nWeight: 0.044 | Feature: creation_source_SIGNUP_GOOGLE_AUTH\nWeight: 0.034 | Feature: creation_source_SIGNUP\nWeight: 0.019 | Feature: opted_in_to_mailing_list\nWeight: 0.014 | Feature: invited_by_user\n"
     ]
    }
   ],
   "source": [
    "# replicating the pipeline without #\n",
    "# using the pipeline itself to get #\n",
    "# \"labeled\" feature importance     #\n",
    "\n",
    "X_ohe = pd.get_dummies(X_test)\n",
    "pipeline.fit(X_ohe, y_test)\n",
    "\n",
    "fe = pipeline.named_steps[\"rf\"].feature_importances_\n",
    "\n",
    "feature_importance = zip(X_ohe.columns, fe)\n",
    "feature_importance = sorted(feature_importance, key=lambda x:x[1], reverse=True)\n",
    "\n",
    "for i, j in feature_importance:\n",
    "    print(f\"Weight: {j:.3f} | Feature: {i}\")"
   ]
  },
  {
   "source": [
    "From the raw dataset, we've utilized the following as our features:\n",
    "\n",
    "invited_by_user - if a user was referred by another user (custom feature)\n",
    "creation_source - how the account was created (stock feature)\n",
    "opted_in_to_mailing_list - whether user has opted into receiving marketing emails (stock feature)\n",
    "enabled_for_marketing_drip - whether they are on the regular marketing email drip (stock feature)\n",
    "Our model proved itself well having a final accuracy metric comparable to the cross-validation training score (both at ~94%). Which would mean that our pipeline's feature ranking is likewise reliable in determining what a good predictor for user adoption is. Thanks to one-hot encoding we can clearly see quite specifically what the business could do to potentially boost the likelihood user engagement:\n",
    "\n",
    "Because personal workspace and guest invite rank highest on how users signed up and caught on, the business could realign its marketing goals to focus more on highly-collaborative user groups.\n",
    "The marketing drip scheme works and so it's important to retain this effort in keeping the user base intact.\n",
    "Whether a user opts in the mailing list or not shows to be the least effective predictor and so it doesn't quite matter when there is any emphasis on the newsletter call-to-action. At least it'll help the UI team to keep the app less commercial and enable a good vibe for the user."
   ],
   "cell_type": "markdown",
   "metadata": {}
  },
  {
   "cell_type": "code",
   "execution_count": null,
   "metadata": {},
   "outputs": [],
   "source": []
  },
  {
   "cell_type": "code",
   "execution_count": null,
   "metadata": {},
   "outputs": [],
   "source": []
  },
  {
   "cell_type": "code",
   "execution_count": null,
   "metadata": {},
   "outputs": [],
   "source": []
  }
 ]
}