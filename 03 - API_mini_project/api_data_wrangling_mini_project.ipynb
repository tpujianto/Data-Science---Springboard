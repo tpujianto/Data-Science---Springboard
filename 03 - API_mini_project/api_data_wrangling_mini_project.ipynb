{
 "cells": [
  {
   "cell_type": "markdown",
   "metadata": {},
   "source": [
    "This exercise will require you to pull some data from the Qunadl API. Qaundl is currently the most widely used aggregator of financial market data."
   ]
  },
  {
   "cell_type": "markdown",
   "metadata": {},
   "source": [
    "As a first step, you will need to register a free account on the http://www.quandl.com website."
   ]
  },
  {
   "cell_type": "markdown",
   "metadata": {},
   "source": [
    "After you register, you will be provided with a unique API key, that you should store:"
   ]
  },
  {
   "cell_type": "code",
   "execution_count": 2,
   "metadata": {},
   "outputs": [],
   "source": [
    "# Store the API key as a string - according to PEP8, constants are always named in all upper case\n",
    "API_KEY = '6oo8RKFBzCAkNjX-owih'"
   ]
  },
  {
   "cell_type": "markdown",
   "metadata": {},
   "source": [
    "Qaundl has a large number of data sources, but, unfortunately, most of them require a Premium subscription. Still, there are also a good number of free datasets."
   ]
  },
  {
   "cell_type": "markdown",
   "metadata": {},
   "source": [
    "For this mini project, we will focus on equities data from the Frankfurt Stock Exhange (FSE), which is available for free. We'll try and analyze the stock prices of a company called Carl Zeiss Meditec, which manufactures tools for eye examinations, as well as medical lasers for laser eye surgery: https://www.zeiss.com/meditec/int/home.html. The company is listed under the stock ticker AFX_X."
   ]
  },
  {
   "cell_type": "markdown",
   "metadata": {},
   "source": [
    "You can find the detailed Quandl API instructions here: https://docs.quandl.com/docs/time-series"
   ]
  },
  {
   "cell_type": "markdown",
   "metadata": {},
   "source": [
    "While there is a dedicated Python package for connecting to the Quandl API, we would prefer that you use the *requests* package, which can be easily downloaded using *pip* or *conda*. You can find the documentation for the package here: http://docs.python-requests.org/en/master/ "
   ]
  },
  {
   "cell_type": "markdown",
   "metadata": {},
   "source": [
    "Finally, apart from the *requests* package, you are encouraged to not use any third party Python packages, such as *pandas*, and instead focus on what's available in the Python Standard Library (the *collections* module might come in handy: https://pymotw.com/3/collections/ ).\n",
    "Also, since you won't have access to DataFrames, you are encouraged to us Python's native data structures - preferably dictionaries, though some questions can also be answered using lists.\n",
    "You can read more on these data structures here: https://docs.python.org/3/tutorial/datastructures.html"
   ]
  },
  {
   "cell_type": "markdown",
   "metadata": {},
   "source": [
    "Keep in mind that the JSON responses you will be getting from the API map almost one-to-one to Python's dictionaries. Unfortunately, they can be very nested, so make sure you read up on indexing dictionaries in the documentation provided above."
   ]
  },
  {
   "cell_type": "code",
   "execution_count": 3,
   "metadata": {},
   "outputs": [],
   "source": [
    "# First, import the relevant modules\n",
    "import requests\n",
    "import json\n"
   ]
  },
  {
   "cell_type": "code",
   "execution_count": 4,
   "metadata": {},
   "outputs": [
    {
     "data": {
      "text/plain": [
       "{'dataset_data': {'limit': None,\n",
       "  'transform': None,\n",
       "  'column_index': None,\n",
       "  'column_names': ['Date',\n",
       "   'Open',\n",
       "   'High',\n",
       "   'Low',\n",
       "   'Close',\n",
       "   'Change',\n",
       "   'Traded Volume',\n",
       "   'Turnover',\n",
       "   'Last Price of the Day',\n",
       "   'Daily Traded Units',\n",
       "   'Daily Turnover'],\n",
       "  'start_date': '2019-11-05',\n",
       "  'end_date': '2019-11-06',\n",
       "  'frequency': 'daily',\n",
       "  'data': [['2019-11-06',\n",
       "    100.5,\n",
       "    103.2,\n",
       "    99.4,\n",
       "    103.2,\n",
       "    None,\n",
       "    132904.0,\n",
       "    13585029.0,\n",
       "    None,\n",
       "    None,\n",
       "    None],\n",
       "   ['2019-11-05',\n",
       "    99.65,\n",
       "    100.7,\n",
       "    98.4,\n",
       "    100.3,\n",
       "    None,\n",
       "    138382.0,\n",
       "    13834720.0,\n",
       "    None,\n",
       "    None,\n",
       "    None]],\n",
       "  'collapse': None,\n",
       "  'order': None}}"
      ]
     },
     "execution_count": 4,
     "metadata": {},
     "output_type": "execute_result"
    }
   ],
   "source": [
    "# Now, call the Quandl API and pull out a small sample of the data (only one day) to get a glimpse\n",
    "# into the JSON structure that will be returned\n",
    "param = dict(key = API_KEY, start_date = \"2019-11-5\", end_date = \"2019-11-6\")\n",
    "res = requests.get(\"https://www.quandl.com/api/v3/datasets/FSE/AFX_X/data.json\", param)\n",
    "res.json()\n"
   ]
  },
  {
   "cell_type": "code",
   "execution_count": 5,
   "metadata": {},
   "outputs": [
    {
     "name": "stdout",
     "output_type": "stream",
     "text": [
      "0 Date\n",
      "1 Open\n",
      "2 High\n",
      "3 Low\n",
      "4 Close\n",
      "5 Change\n",
      "6 Traded Volume\n",
      "7 Turnover\n",
      "8 Last Price of the Day\n",
      "9 Daily Traded Units\n",
      "10 Daily Turnover\n"
     ]
    }
   ],
   "source": [
    "# Inspect the JSON structure of the object you created, and take note of how nested it is,\n",
    "# as well as the overall structure\n",
    "structure = res.json()\n",
    "col_names = structure['dataset_data']['column_names']\n",
    "for counter, value in enumerate(col_names):\n",
    "    print(counter, value)"
   ]
  },
  {
   "cell_type": "markdown",
   "metadata": {},
   "source": [
    "#### JSON STRUCTURE \n",
    "1. Nested dictionary - dictionary inside a dictionary (2-tier)\n",
    "2. To get to the data dictionary_from_json['dataset_data']['data']\n",
    "3. The data is a list of list of the data per day.\n",
    "4. ['dataset_data']['data'][i][j] - [i] would be the index to get into the data for day-i; [j] would be for each column"
   ]
  },
  {
   "cell_type": "markdown",
   "metadata": {},
   "source": [
    "These are your tasks for this mini project:\n",
    "\n",
    "1. Collect data from the Franfurt Stock Exchange, for the ticker AFX_X, for the whole year 2017 (keep in mind that the date format is YYYY-MM-DD).\n",
    "2. Convert the returned JSON object into a Python dictionary.\n",
    "3. Calculate what the highest and lowest opening prices were for the stock in this period.\n",
    "4. What was the largest change in any one day (based on High and Low price)?\n",
    "5. What was the largest change between any two days (based on Closing Price)?\n",
    "6. What was the average daily trading volume during this year?\n",
    "7. (Optional) What was the median trading volume during this year. (Note: you may need to implement your own function for calculating the median.)"
   ]
  },
  {
   "cell_type": "markdown",
   "metadata": {
    "collapsed": true
   },
   "source": [
    "#### PART 1 - COLLECT THE DATA"
   ]
  },
  {
   "cell_type": "code",
   "execution_count": 6,
   "metadata": {},
   "outputs": [],
   "source": [
    "# using requests module get the response from quandl API for the entire year of 2017\n",
    "param = dict(key = API_KEY, start_date = \"2017-01-01\", end_date = \"2017-12-31\")\n",
    "res = requests.get(\"https://www.quandl.com/api/v3/datasets/FSE/AFX_X/data.json\", param)"
   ]
  },
  {
   "cell_type": "markdown",
   "metadata": {},
   "source": [
    "#### PART 2 - CONVERT JSON INTO PYTHON DICTIONARY"
   ]
  },
  {
   "cell_type": "code",
   "execution_count": 7,
   "metadata": {},
   "outputs": [],
   "source": [
    "# assigning json into python dict using .json() method\n",
    "afx_data = res.json()"
   ]
  },
  {
   "cell_type": "markdown",
   "metadata": {},
   "source": [
    "##### PART 2B\n",
    "After reviewing the questions - we would need to extract several columns. Below would be the process to extract necessary columns into lists using for loop."
   ]
  },
  {
   "cell_type": "code",
   "execution_count": 8,
   "metadata": {},
   "outputs": [],
   "source": [
    "# preparing empty list to be used in the for loop \n",
    "afx_open = []\n",
    "afx_high = []\n",
    "afx_low = []\n",
    "afx_close = []\n",
    "afx_highlow = []\n",
    "afx_nextday = []\n",
    "afx_volume = []"
   ]
  },
  {
   "cell_type": "code",
   "execution_count": 9,
   "metadata": {},
   "outputs": [],
   "source": [
    "\n",
    "for i in range(len(afx_data['dataset_data']['data'])):\n",
    "\n",
    "    opening = afx_data['dataset_data']['data'][i][1] \n",
    "    close = afx_data['dataset_data']['data'][i][4]\n",
    "    high = afx_data['dataset_data']['data'][i][2] \n",
    "    low = afx_data['dataset_data']['data'][i][3]    \n",
    "    t_vol = afx_data['dataset_data']['data'][i][6]\n",
    "    \n",
    "    if isinstance(opening,float):\n",
    "        afx_open.append(opening)\n",
    "    if isinstance(close,float):\n",
    "        afx_close.append(close)\n",
    "    if isinstance(high,float) and isinstance(low,float):    \n",
    "        highlow = high - low\n",
    "        afx_highlow.append(highlow)\n",
    "        \n",
    "    if i == 0 :\n",
    "        nextday = 'NA'\n",
    "    else:\n",
    "        nextday = afx_close[i] - afx_close[i-1]\n",
    "        afx_nextday.append(nextday)\n",
    "        \n",
    "    if isinstance(t_vol,float):\n",
    "        afx_volume.append(t_vol)"
   ]
  },
  {
   "cell_type": "markdown",
   "metadata": {},
   "source": [
    "#### PART 3  - FIND THE HIGHEST AND LOWEST OPENING PRICES"
   ]
  },
  {
   "cell_type": "code",
   "execution_count": 15,
   "metadata": {},
   "outputs": [
    {
     "name": "stdout",
     "output_type": "stream",
     "text": [
      "The highest opening price is: 53.11\n",
      "The highest opening price is: 34.00\n"
     ]
    }
   ],
   "source": [
    "print('The highest opening price is: {:0.2f}'.format(max(afx_open)))\n",
    "print('The highest opening price is: {:0.2f}'.format(min(afx_open)))     "
   ]
  },
  {
   "cell_type": "markdown",
   "metadata": {},
   "source": [
    "#### PART 4  - FIND THE LARGEST CHANGES IN ONE DAY"
   ]
  },
  {
   "cell_type": "code",
   "execution_count": 20,
   "metadata": {},
   "outputs": [
    {
     "name": "stdout",
     "output_type": "stream",
     "text": [
      "The highest changes in one day is: 2.81\n"
     ]
    }
   ],
   "source": [
    "print('The highest changes in one day is: {:0.2f}'.format(max(afx_highlow)))"
   ]
  },
  {
   "cell_type": "markdown",
   "metadata": {},
   "source": [
    "#### PART 5  - FIND THE LARGEST CHANGES BETWEEN ANY TWO DAYS"
   ]
  },
  {
   "cell_type": "code",
   "execution_count": 22,
   "metadata": {},
   "outputs": [
    {
     "name": "stdout",
     "output_type": "stream",
     "text": [
      "The highest changes in one day is: 2.56\n"
     ]
    }
   ],
   "source": [
    "print('The highest changes in one day is: {:0.2f}'.format(max(afx_nextday)))"
   ]
  },
  {
   "cell_type": "markdown",
   "metadata": {},
   "source": [
    "#### PART  - FIND THE AVERAGE TRADING VOLUMES DURING 2017"
   ]
  },
  {
   "cell_type": "code",
   "execution_count": 42,
   "metadata": {},
   "outputs": [
    {
     "name": "stdout",
     "output_type": "stream",
     "text": [
      "The average trading volumes in 2017 is: 89124.34\n"
     ]
    }
   ],
   "source": [
    "# there is no mean function for list\n",
    "avg = str(round(sum(afx_volume)/len(afx_volume), 2))\n",
    "print('The average trading volumes in 2017 is: '+ avg)"
   ]
  },
  {
   "cell_type": "code",
   "execution_count": null,
   "metadata": {},
   "outputs": [],
   "source": []
  },
  {
   "cell_type": "code",
   "execution_count": null,
   "metadata": {},
   "outputs": [],
   "source": []
  },
  {
   "cell_type": "code",
   "execution_count": null,
   "metadata": {},
   "outputs": [],
   "source": []
  }
 ],
 "metadata": {
  "kernelspec": {
   "display_name": "Python 3",
   "language": "python",
   "name": "python3"
  },
  "language_info": {
   "codemirror_mode": {
    "name": "ipython",
    "version": 3
   },
   "file_extension": ".py",
   "mimetype": "text/x-python",
   "name": "python",
   "nbconvert_exporter": "python",
   "pygments_lexer": "ipython3",
   "version": "3.7.4"
  }
 },
 "nbformat": 4,
 "nbformat_minor": 2
}
